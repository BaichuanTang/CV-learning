{
 "cells": [
  {
   "cell_type": "markdown",
   "metadata": {
    "colab_type": "text",
    "id": "view-in-github"
   },
   "source": [
    "<a href=\"https://colab.research.google.com/github/https-deeplearning-ai/tensorflow-3-public/blob/main/Course%201%20-%20Custom%20Models%2C%20Layers%20and%20Loss%20Functions/Week%205%20-%20Callbacks/C1_W5_Lab_1_exploring-callbacks.ipynb\" target=\"_parent\"><img src=\"https://colab.research.google.com/assets/colab-badge.svg\" alt=\"Open In Colab\"/></a>"
   ]
  },
  {
   "cell_type": "markdown",
   "metadata": {
    "colab_type": "text",
    "id": "0c_TYhQOUe1j"
   },
   "source": [
    "# Ungraded Lab: Introduction to Keras callbacks\n",
    "\n",
    "In Keras, `Callback` is a Python class meant to be subclassed to provide specific functionality, with a set of methods called at various stages of training (including batch/epoch start and ends), testing, and predicting. Callbacks are useful to get a view on internal states and statistics of the model during training. The methods of the callbacks can  be called at different stages of training/evaluating/inference. Keras has available [callbacks](https://keras.io/api/callbacks/) and we'll show how you can use it in the following sections. Please click the **Open in Colab** badge above to complete this exercise in Colab. This will allow you to take advantage of the free GPU runtime (for faster training) and compatibility with all the packages needed in this notebook."
   ]
  },
  {
   "cell_type": "markdown",
   "metadata": {
    "colab_type": "text",
    "id": "Uyl69EyRQx-f"
   },
   "source": [
    "## Model methods that take callbacks\n",
    "Users can supply a list of callbacks to the following `tf.keras.Model` methods:\n",
    "* [`fit()`](https://www.tensorflow.org/versions/r2.0/api_docs/python/tf/keras/Model#fit), [`fit_generator()`](https://www.tensorflow.org/versions/r2.0/api_docs/python/tf/keras/Model#fit_generator)\n",
    "Trains the model for a fixed number of epochs (iterations over a dataset, or data yielded batch-by-batch by a Python generator).\n",
    "* [`evaluate()`](https://www.tensorflow.org/versions/r2.0/api_docs/python/tf/keras/Model#evaluate), [`evaluate_generator()`](https://www.tensorflow.org/versions/r2.0/api_docs/python/tf/keras/Model#evaluate_generator)\n",
    "Evaluates the model for given data or data generator. Outputs the loss and metric values from the evaluation.\n",
    "* [`predict()`](https://www.tensorflow.org/versions/r2.0/api_docs/python/tf/keras/Model#predict), [`predict_generator()`](https://www.tensorflow.org/versions/r2.0/api_docs/python/tf/keras/Model#predict_generator)\n",
    "Generates output predictions for the input data or data generator."
   ]
  },
  {
   "cell_type": "markdown",
   "metadata": {},
   "source": [
    "## Imports"
   ]
  },
  {
   "cell_type": "code",
   "execution_count": 1,
   "metadata": {
    "colab": {},
    "colab_type": "code",
    "id": "AlT1Kh3uA9lZ"
   },
   "outputs": [
    {
     "name": "stdout",
     "output_type": "stream",
     "text": [
      "Version:  2.1.0\n"
     ]
    }
   ],
   "source": [
    "from __future__ import absolute_import, division, print_function, unicode_literals\n",
    "\n",
    "try:\n",
    "    # %tensorflow_version only exists in Colab.\n",
    "    %tensorflow_version 2.x\n",
    "except Exception:\n",
    "    pass\n",
    "\n",
    "import tensorflow as tf\n",
    "import tensorflow_datasets as tfds\n",
    "import matplotlib.pyplot as plt\n",
    "import io\n",
    "from PIL import Image\n",
    "\n",
    "from tensorflow.keras.callbacks import TensorBoard, EarlyStopping, LearningRateScheduler, ModelCheckpoint, CSVLogger, ReduceLROnPlateau\n",
    "%load_ext tensorboard\n",
    "\n",
    "import os\n",
    "import matplotlib.pylab as plt\n",
    "import numpy as np\n",
    "import math\n",
    "import datetime\n",
    "import pandas as pd\n",
    "\n",
    "print(\"Version: \", tf.__version__)\n",
    "tf.get_logger().setLevel('INFO')"
   ]
  },
  {
   "cell_type": "markdown",
   "metadata": {
    "colab_type": "text",
    "id": "HnSljqtsXKfb"
   },
   "source": [
    "# Examples of Keras callback applications\n",
    "The following section will guide you through creating simple [Callback](https://keras.io/api/callbacks/) applications."
   ]
  },
  {
   "cell_type": "code",
   "execution_count": 2,
   "metadata": {
    "colab": {},
    "colab_type": "code",
    "id": "spskRuxvCYQE"
   },
   "outputs": [],
   "source": [
    "# Download and prepare the horses or humans dataset\n",
    "\n",
    "# horses_or_humans 3.0.0 has already been downloaded for you\n",
    "path = \"./tensorflow_datasets\"\n",
    "splits, info = tfds.load('horses_or_humans', data_dir=path, as_supervised=True, with_info=True, split=['train[:80%]', 'train[80%:]', 'test'])\n",
    "\n",
    "(train_examples, validation_examples, test_examples) = splits\n",
    "\n",
    "num_examples = info.splits['train'].num_examples\n",
    "num_classes = info.features['label'].num_classes"
   ]
  },
  {
   "cell_type": "code",
   "execution_count": 3,
   "metadata": {
    "colab": {},
    "colab_type": "code",
    "id": "veIsubKTCZsN"
   },
   "outputs": [],
   "source": [
    "SIZE = 150 #@param {type:\"slider\", min:64, max:300, step:1}\n",
    "IMAGE_SIZE = (SIZE, SIZE)"
   ]
  },
  {
   "cell_type": "code",
   "execution_count": 4,
   "metadata": {},
   "outputs": [
    {
     "data": {
      "text/plain": [
       "[<PrefetchDataset shapes: ((300, 300, 3), ()), types: (tf.uint8, tf.int64)>,\n",
       " <PrefetchDataset shapes: ((300, 300, 3), ()), types: (tf.uint8, tf.int64)>,\n",
       " <PrefetchDataset shapes: ((300, 300, 3), ()), types: (tf.uint8, tf.int64)>]"
      ]
     },
     "execution_count": 4,
     "metadata": {},
     "output_type": "execute_result"
    }
   ],
   "source": [
    "splits"
   ]
  },
  {
   "cell_type": "code",
   "execution_count": 5,
   "metadata": {
    "colab": {},
    "colab_type": "code",
    "id": "faajLlErCb1S"
   },
   "outputs": [],
   "source": [
    "def format_image(image, label):\n",
    "    image = tf.image.resize(image, IMAGE_SIZE) / 255.0\n",
    "    return  image, label"
   ]
  },
  {
   "cell_type": "code",
   "execution_count": 6,
   "metadata": {
    "colab": {},
    "colab_type": "code",
    "id": "AVXPuU12Cdka"
   },
   "outputs": [],
   "source": [
    "BATCH_SIZE = 32 #@param {type:\"integer\"}"
   ]
  },
  {
   "cell_type": "code",
   "execution_count": 7,
   "metadata": {
    "colab": {},
    "colab_type": "code",
    "id": "0lHDkFVaCe48"
   },
   "outputs": [],
   "source": [
    "train_batches = train_examples.shuffle(num_examples // 4).map(format_image).batch(BATCH_SIZE).prefetch(1)\n",
    "validation_batches = validation_examples.map(format_image).batch(BATCH_SIZE).prefetch(1)\n",
    "test_batches = test_examples.map(format_image).batch(1)"
   ]
  },
  {
   "cell_type": "code",
   "execution_count": 8,
   "metadata": {
    "colab": {},
    "colab_type": "code",
    "id": "DxsCqEIkCgUt"
   },
   "outputs": [
    {
     "data": {
      "text/plain": [
       "TensorShape([32, 150, 150, 3])"
      ]
     },
     "execution_count": 8,
     "metadata": {},
     "output_type": "execute_result"
    }
   ],
   "source": [
    "for image_batch, label_batch in train_batches.take(1):\n",
    "    pass\n",
    "\n",
    "image_batch.shape"
   ]
  },
  {
   "cell_type": "code",
   "execution_count": 9,
   "metadata": {
    "colab": {},
    "colab_type": "code",
    "id": "iDBpWvHXCh2A"
   },
   "outputs": [],
   "source": [
    "def build_model(dense_units, input_shape=IMAGE_SIZE + (3,)):\n",
    "    model = tf.keras.models.Sequential([\n",
    "      tf.keras.layers.Conv2D(16, (3, 3), activation='relu', input_shape=input_shape),\n",
    "      tf.keras.layers.MaxPooling2D(2, 2),\n",
    "      tf.keras.layers.Conv2D(32, (3, 3), activation='relu'),\n",
    "      tf.keras.layers.MaxPooling2D(2, 2),\n",
    "      tf.keras.layers.Conv2D(64, (3, 3), activation='relu'),\n",
    "      tf.keras.layers.MaxPooling2D(2, 2),\n",
    "      tf.keras.layers.Flatten(),\n",
    "      tf.keras.layers.Dense(dense_units, activation='relu'),\n",
    "      tf.keras.layers.Dense(2, activation='softmax')\n",
    "    ])\n",
    "    return model"
   ]
  },
  {
   "cell_type": "markdown",
   "metadata": {
    "colab_type": "text",
    "id": "0ZKGkjagENSw"
   },
   "source": [
    "## [TensorBoard](https://keras.io/api/callbacks/tensorboard/)\n",
    "\n",
    "Enable visualizations for TensorBoard."
   ]
  },
  {
   "cell_type": "code",
   "execution_count": 13,
   "metadata": {
    "colab": {},
    "colab_type": "code",
    "id": "CeiD2WVEHbex"
   },
   "outputs": [
    {
     "name": "stderr",
     "output_type": "stream",
     "text": [
      "'rm' is not recognized as an internal or external command,\n",
      "operable program or batch file.\n"
     ]
    }
   ],
   "source": [
    "!rm -rf logs"
   ]
  },
  {
   "cell_type": "code",
   "execution_count": 15,
   "metadata": {
    "colab": {},
    "colab_type": "code",
    "id": "PpLwPLnAEOzv"
   },
   "outputs": [
    {
     "name": "stdout",
     "output_type": "stream",
     "text": [
      "Epoch 1/10\n",
      "26/26 [==============================] - 6s 224ms/step - loss: 0.6680 - accuracy: 0.5791 - val_loss: 0.6244 - val_accuracy: 0.7610\n",
      "Epoch 2/10\n",
      "26/26 [==============================] - 6s 219ms/step - loss: 0.6126 - accuracy: 0.6873 - val_loss: 0.5811 - val_accuracy: 0.7707\n",
      "Epoch 3/10\n",
      "26/26 [==============================] - 5s 206ms/step - loss: 0.5597 - accuracy: 0.7421 - val_loss: 0.7313 - val_accuracy: 0.5220\n",
      "Epoch 4/10\n",
      "26/26 [==============================] - 5s 206ms/step - loss: 0.4974 - accuracy: 0.7701 - val_loss: 0.4493 - val_accuracy: 0.8195\n",
      "Epoch 5/10\n",
      "26/26 [==============================] - 5s 201ms/step - loss: 0.4183 - accuracy: 0.8297 - val_loss: 0.5347 - val_accuracy: 0.6927\n",
      "Epoch 6/10\n",
      "26/26 [==============================] - 5s 209ms/step - loss: 0.3757 - accuracy: 0.8577 - val_loss: 0.3149 - val_accuracy: 0.8732\n",
      "Epoch 7/10\n",
      "26/26 [==============================] - 6s 213ms/step - loss: 0.3086 - accuracy: 0.8856 - val_loss: 0.2334 - val_accuracy: 0.9366\n",
      "Epoch 8/10\n",
      "26/26 [==============================] - 6s 215ms/step - loss: 0.2661 - accuracy: 0.9185 - val_loss: 0.2032 - val_accuracy: 0.9415\n",
      "Epoch 9/10\n",
      "26/26 [==============================] - 5s 211ms/step - loss: 0.1891 - accuracy: 0.9513 - val_loss: 0.1411 - val_accuracy: 0.9756\n",
      "Epoch 10/10\n",
      "26/26 [==============================] - 6s 218ms/step - loss: 0.2014 - accuracy: 0.9294 - val_loss: 0.1720 - val_accuracy: 0.9659\n"
     ]
    },
    {
     "data": {
      "text/plain": [
       "<tensorflow.python.keras.callbacks.History at 0x17b9aa62808>"
      ]
     },
     "execution_count": 15,
     "metadata": {},
     "output_type": "execute_result"
    }
   ],
   "source": [
    "model = build_model(dense_units=256)\n",
    "model.compile(\n",
    "    optimizer='sgd',\n",
    "    loss='sparse_categorical_crossentropy', \n",
    "    metrics=['accuracy'])\n",
    "  \n",
    "logdir = os.path.join(\"logs\", datetime.datetime.now().strftime(\"%Y%m%d-%H%M%S\"))\n",
    "tensorboard_callback = tf.keras.callbacks.TensorBoard(logdir)\n",
    "\n",
    "model.fit(train_batches, \n",
    "          epochs=10, \n",
    "          validation_data=validation_batches, \n",
    "          callbacks=[tensorboard_callback])"
   ]
  },
  {
   "cell_type": "code",
   "execution_count": 16,
   "metadata": {
    "colab": {},
    "colab_type": "code",
    "id": "iJunWOjZE0ir"
   },
   "outputs": [
    {
     "data": {
      "text/plain": [
       "Reusing TensorBoard on port 6006 (pid 17840), started 0:01:02 ago. (Use '!kill 17840' to kill it.)"
      ]
     },
     "metadata": {},
     "output_type": "display_data"
    },
    {
     "data": {
      "text/html": [
       "\n",
       "      <iframe id=\"tensorboard-frame-42fad4e17b97979\" width=\"100%\" height=\"800\" frameborder=\"0\">\n",
       "      </iframe>\n",
       "      <script>\n",
       "        (function() {\n",
       "          const frame = document.getElementById(\"tensorboard-frame-42fad4e17b97979\");\n",
       "          const url = new URL(\"/\", window.location);\n",
       "          url.port = 6006;\n",
       "          frame.src = url;\n",
       "        })();\n",
       "      </script>\n",
       "  "
      ],
      "text/plain": [
       "<IPython.core.display.HTML object>"
      ]
     },
     "metadata": {},
     "output_type": "display_data"
    }
   ],
   "source": [
    "%tensorboard --logdir logs"
   ]
  },
  {
   "cell_type": "markdown",
   "metadata": {
    "colab_type": "text",
    "id": "wv9H4Pc2Mfl7"
   },
   "source": [
    "## [Model Checkpoint](https://keras.io/api/callbacks/model_checkpoint/)\n",
    "\n",
    "Callback to save the Keras model or model weights at some frequency."
   ]
  },
  {
   "cell_type": "code",
   "execution_count": 18,
   "metadata": {
    "colab": {},
    "colab_type": "code",
    "id": "PYV4FJ8iMmDq"
   },
   "outputs": [
    {
     "name": "stdout",
     "output_type": "stream",
     "text": [
      "Epoch 1/5\n",
      "\n",
      "Epoch 00001: saving model to weights.01-0.68.h5\n",
      "26/26 - 5s - loss: 0.6819 - accuracy: 0.5474 - val_loss: 0.6755 - val_accuracy: 0.7707\n",
      "Epoch 2/5\n",
      "\n",
      "Epoch 00002: saving model to weights.02-0.65.h5\n",
      "26/26 - 5s - loss: 0.6617 - accuracy: 0.6144 - val_loss: 0.6543 - val_accuracy: 0.8195\n",
      "Epoch 3/5\n",
      "\n",
      "Epoch 00003: saving model to weights.03-0.63.h5\n",
      "26/26 - 5s - loss: 0.6398 - accuracy: 0.6740 - val_loss: 0.6281 - val_accuracy: 0.7415\n",
      "Epoch 4/5\n",
      "\n",
      "Epoch 00004: saving model to weights.04-0.59.h5\n",
      "26/26 - 5s - loss: 0.6106 - accuracy: 0.7105 - val_loss: 0.5928 - val_accuracy: 0.6195\n",
      "Epoch 5/5\n",
      "\n",
      "Epoch 00005: saving model to weights.05-0.59.h5\n",
      "26/26 - 5s - loss: 0.5722 - accuracy: 0.7409 - val_loss: 0.5872 - val_accuracy: 0.6244\n"
     ]
    },
    {
     "data": {
      "text/plain": [
       "<tensorflow.python.keras.callbacks.History at 0x17ba9b5be08>"
      ]
     },
     "execution_count": 18,
     "metadata": {},
     "output_type": "execute_result"
    }
   ],
   "source": [
    "model = build_model(dense_units=256)\n",
    "model.compile(\n",
    "    optimizer='sgd',\n",
    "    loss='sparse_categorical_crossentropy', \n",
    "    metrics=['accuracy'])\n",
    "  \n",
    "model.fit(train_batches, \n",
    "          epochs=5, \n",
    "          validation_data=validation_batches, \n",
    "          verbose=2,\n",
    "          callbacks=[ModelCheckpoint('weights.{epoch:02d}-{val_loss:.2f}.h5', verbose=1),\n",
    "          ])"
   ]
  },
  {
   "cell_type": "code",
   "execution_count": 19,
   "metadata": {
    "colab": {},
    "colab_type": "code",
    "id": "oGvjQ8IlMmK6"
   },
   "outputs": [
    {
     "name": "stdout",
     "output_type": "stream",
     "text": [
      "\n",
      "Epoch 00001: saving model to saved_model\n",
      "WARNING:tensorflow:From D:\\Anacond3\\envs\\tf2\\lib\\site-packages\\tensorflow_core\\python\\ops\\resource_variable_ops.py:1786: calling BaseResourceVariable.__init__ (from tensorflow.python.ops.resource_variable_ops) with constraint is deprecated and will be removed in a future version.\n",
      "Instructions for updating:\n",
      "If using Keras pass *_constraint arguments to layers.\n"
     ]
    },
    {
     "name": "stderr",
     "output_type": "stream",
     "text": [
      "WARNING:tensorflow:From D:\\Anacond3\\envs\\tf2\\lib\\site-packages\\tensorflow_core\\python\\ops\\resource_variable_ops.py:1786: calling BaseResourceVariable.__init__ (from tensorflow.python.ops.resource_variable_ops) with constraint is deprecated and will be removed in a future version.\n",
      "Instructions for updating:\n",
      "If using Keras pass *_constraint arguments to layers.\n"
     ]
    },
    {
     "name": "stdout",
     "output_type": "stream",
     "text": [
      "INFO:tensorflow:Assets written to: saved_model\\assets\n"
     ]
    },
    {
     "name": "stderr",
     "output_type": "stream",
     "text": [
      "INFO:tensorflow:Assets written to: saved_model\\assets\n"
     ]
    },
    {
     "name": "stdout",
     "output_type": "stream",
     "text": [
      "26/26 - 6s - loss: 0.6732 - accuracy: 0.5608 - val_loss: 0.6624 - val_accuracy: 0.6732\n"
     ]
    },
    {
     "data": {
      "text/plain": [
       "<tensorflow.python.keras.callbacks.History at 0x17ba9ed2088>"
      ]
     },
     "execution_count": 19,
     "metadata": {},
     "output_type": "execute_result"
    }
   ],
   "source": [
    "model = build_model(dense_units=256)\n",
    "model.compile(\n",
    "    optimizer='sgd',\n",
    "    loss='sparse_categorical_crossentropy', \n",
    "    metrics=['accuracy'])\n",
    "  \n",
    "model.fit(train_batches, \n",
    "          epochs=1, \n",
    "          validation_data=validation_batches, \n",
    "          verbose=2,\n",
    "          callbacks=[ModelCheckpoint('saved_model', verbose=1)\n",
    "          ])"
   ]
  },
  {
   "cell_type": "code",
   "execution_count": 20,
   "metadata": {
    "colab": {},
    "colab_type": "code",
    "id": "Y1ConwoB0EjD"
   },
   "outputs": [
    {
     "name": "stdout",
     "output_type": "stream",
     "text": [
      "Epoch 1/2\n",
      "\n",
      "Epoch 00001: saving model to model.h5\n",
      "26/26 - 6s - loss: 0.6784 - accuracy: 0.5547 - val_loss: 0.6662 - val_accuracy: 0.7317\n",
      "Epoch 2/2\n",
      "\n",
      "Epoch 00002: saving model to model.h5\n",
      "26/26 - 5s - loss: 0.6449 - accuracy: 0.6642 - val_loss: 0.6818 - val_accuracy: 0.5024\n"
     ]
    },
    {
     "data": {
      "text/plain": [
       "<tensorflow.python.keras.callbacks.History at 0x17baa6cb788>"
      ]
     },
     "execution_count": 20,
     "metadata": {},
     "output_type": "execute_result"
    }
   ],
   "source": [
    "model = build_model(dense_units=256)\n",
    "model.compile(\n",
    "    optimizer='sgd',\n",
    "    loss='sparse_categorical_crossentropy', \n",
    "    metrics=['accuracy'])\n",
    "  \n",
    "model.fit(train_batches, \n",
    "          epochs=2, \n",
    "          validation_data=validation_batches, \n",
    "          verbose=2,\n",
    "          callbacks=[ModelCheckpoint('model.h5', verbose=1)\n",
    "          ])"
   ]
  },
  {
   "cell_type": "markdown",
   "metadata": {
    "colab_type": "text",
    "id": "kptNF0--Lznv"
   },
   "source": [
    "## [Early stopping](https://keras.io/api/callbacks/early_stopping/)\n",
    "\n",
    "Stop training when a monitored metric has stopped improving."
   ]
  },
  {
   "cell_type": "code",
   "execution_count": 21,
   "metadata": {
    "colab": {},
    "colab_type": "code",
    "id": "KJOJTJYdCkdY"
   },
   "outputs": [
    {
     "name": "stdout",
     "output_type": "stream",
     "text": [
      "Epoch 1/50\n",
      "26/26 - 5s - loss: 0.6633 - accuracy: 0.5998 - val_loss: 0.7599 - val_accuracy: 0.4341\n",
      "Epoch 2/50\n",
      "26/26 - 5s - loss: 0.6221 - accuracy: 0.6764 - val_loss: 0.5842 - val_accuracy: 0.7122\n",
      "Epoch 3/50\n",
      "26/26 - 5s - loss: 0.5545 - accuracy: 0.7774 - val_loss: 0.5220 - val_accuracy: 0.7268\n",
      "Epoch 4/50\n",
      "26/26 - 5s - loss: 0.4944 - accuracy: 0.8029 - val_loss: 0.4607 - val_accuracy: 0.8390\n",
      "Epoch 5/50\n",
      "26/26 - 5s - loss: 0.4087 - accuracy: 0.8650 - val_loss: 0.3707 - val_accuracy: 0.8390\n",
      "Epoch 6/50\n",
      "26/26 - 5s - loss: 0.3533 - accuracy: 0.8674 - val_loss: 0.2886 - val_accuracy: 0.8976\n",
      "Epoch 7/50\n",
      "26/26 - 5s - loss: 0.3093 - accuracy: 0.8942 - val_loss: 0.2105 - val_accuracy: 0.9512\n",
      "Epoch 8/50\n",
      "26/26 - 5s - loss: 0.2144 - accuracy: 0.9465 - val_loss: 0.1672 - val_accuracy: 0.9610\n",
      "Epoch 9/50\n",
      "26/26 - 5s - loss: 0.1795 - accuracy: 0.9489 - val_loss: 0.1628 - val_accuracy: 0.9512\n",
      "Epoch 10/50\n",
      "26/26 - 5s - loss: 0.1455 - accuracy: 0.9586 - val_loss: 0.1233 - val_accuracy: 0.9610\n",
      "Epoch 11/50\n",
      "26/26 - 5s - loss: 0.1168 - accuracy: 0.9696 - val_loss: 0.1279 - val_accuracy: 0.9561\n",
      "Epoch 12/50\n",
      "26/26 - 5s - loss: 0.1121 - accuracy: 0.9672 - val_loss: 0.0849 - val_accuracy: 0.9805\n",
      "Epoch 13/50\n",
      "Restoring model weights from the end of the best epoch.\n",
      "26/26 - 5s - loss: 0.0966 - accuracy: 0.9757 - val_loss: 0.0808 - val_accuracy: 0.9854\n",
      "Epoch 00013: early stopping\n"
     ]
    },
    {
     "data": {
      "text/plain": [
       "<tensorflow.python.keras.callbacks.History at 0x17ba245bdc8>"
      ]
     },
     "execution_count": 21,
     "metadata": {},
     "output_type": "execute_result"
    }
   ],
   "source": [
    "model = build_model(dense_units=256)\n",
    "model.compile(\n",
    "    optimizer='sgd',\n",
    "    loss='sparse_categorical_crossentropy', \n",
    "    metrics=['accuracy'])\n",
    "  \n",
    "model.fit(train_batches, \n",
    "          epochs=50, \n",
    "          validation_data=validation_batches, \n",
    "          verbose=2,\n",
    "          callbacks=[EarlyStopping(\n",
    "              patience=3,\n",
    "              min_delta=0.05,\n",
    "              baseline=0.8,\n",
    "              mode='min',\n",
    "              monitor='val_loss',\n",
    "              restore_best_weights=True,\n",
    "              verbose=1)\n",
    "          ])"
   ]
  },
  {
   "cell_type": "markdown",
   "metadata": {
    "colab_type": "text",
    "id": "8mDzWUD4Pqq5"
   },
   "source": [
    "## [CSV Logger](https://keras.io/api/callbacks/csv_logger/)\n",
    "\n",
    "Callback that streams epoch results to a CSV file."
   ]
  },
  {
   "cell_type": "code",
   "execution_count": 22,
   "metadata": {
    "colab": {},
    "colab_type": "code",
    "id": "cffnMpmGPtMh"
   },
   "outputs": [
    {
     "name": "stdout",
     "output_type": "stream",
     "text": [
      "Epoch 1/5\n",
      "26/26 [==============================] - 6s 214ms/step - loss: 0.6710 - accuracy: 0.6010 - val_loss: 0.6412 - val_accuracy: 0.5902\n",
      "Epoch 2/5\n",
      "26/26 [==============================] - 5s 206ms/step - loss: 0.6070 - accuracy: 0.6740 - val_loss: 0.5641 - val_accuracy: 0.6732\n",
      "Epoch 3/5\n",
      "26/26 [==============================] - 5s 198ms/step - loss: 0.5632 - accuracy: 0.6995 - val_loss: 0.4920 - val_accuracy: 0.9073\n",
      "Epoch 4/5\n",
      "26/26 [==============================] - 5s 200ms/step - loss: 0.4846 - accuracy: 0.7981 - val_loss: 0.4657 - val_accuracy: 0.7268\n",
      "Epoch 5/5\n",
      "26/26 [==============================] - 5s 204ms/step - loss: 0.4309 - accuracy: 0.8224 - val_loss: 0.4945 - val_accuracy: 0.7171\n"
     ]
    },
    {
     "data": {
      "text/plain": [
       "<tensorflow.python.keras.callbacks.History at 0x17baa0d47c8>"
      ]
     },
     "execution_count": 22,
     "metadata": {},
     "output_type": "execute_result"
    }
   ],
   "source": [
    "model = build_model(dense_units=256)\n",
    "model.compile(\n",
    "    optimizer='sgd',\n",
    "    loss='sparse_categorical_crossentropy', \n",
    "    metrics=['accuracy'])\n",
    "  \n",
    "csv_file = 'training.csv'\n",
    "\n",
    "model.fit(train_batches, \n",
    "          epochs=5, \n",
    "          validation_data=validation_batches, \n",
    "          callbacks=[CSVLogger(csv_file)\n",
    "          ])"
   ]
  },
  {
   "cell_type": "code",
   "execution_count": 23,
   "metadata": {
    "colab": {},
    "colab_type": "code",
    "id": "B9tkYi03QV7R"
   },
   "outputs": [
    {
     "data": {
      "text/html": [
       "<div>\n",
       "<style scoped>\n",
       "    .dataframe tbody tr th:only-of-type {\n",
       "        vertical-align: middle;\n",
       "    }\n",
       "\n",
       "    .dataframe tbody tr th {\n",
       "        vertical-align: top;\n",
       "    }\n",
       "\n",
       "    .dataframe thead th {\n",
       "        text-align: right;\n",
       "    }\n",
       "</style>\n",
       "<table border=\"1\" class=\"dataframe\">\n",
       "  <thead>\n",
       "    <tr style=\"text-align: right;\">\n",
       "      <th></th>\n",
       "      <th>epoch</th>\n",
       "      <th>accuracy</th>\n",
       "      <th>loss</th>\n",
       "      <th>val_accuracy</th>\n",
       "      <th>val_loss</th>\n",
       "    </tr>\n",
       "  </thead>\n",
       "  <tbody>\n",
       "    <tr>\n",
       "      <th>0</th>\n",
       "      <td>0</td>\n",
       "      <td>0.600973</td>\n",
       "      <td>0.671693</td>\n",
       "      <td>0.590244</td>\n",
       "      <td>0.641219</td>\n",
       "    </tr>\n",
       "    <tr>\n",
       "      <th>1</th>\n",
       "      <td>1</td>\n",
       "      <td>0.673966</td>\n",
       "      <td>0.607468</td>\n",
       "      <td>0.673171</td>\n",
       "      <td>0.564120</td>\n",
       "    </tr>\n",
       "    <tr>\n",
       "      <th>2</th>\n",
       "      <td>2</td>\n",
       "      <td>0.699513</td>\n",
       "      <td>0.563555</td>\n",
       "      <td>0.907317</td>\n",
       "      <td>0.491954</td>\n",
       "    </tr>\n",
       "    <tr>\n",
       "      <th>3</th>\n",
       "      <td>3</td>\n",
       "      <td>0.798053</td>\n",
       "      <td>0.485711</td>\n",
       "      <td>0.726829</td>\n",
       "      <td>0.465723</td>\n",
       "    </tr>\n",
       "    <tr>\n",
       "      <th>4</th>\n",
       "      <td>4</td>\n",
       "      <td>0.822384</td>\n",
       "      <td>0.432050</td>\n",
       "      <td>0.717073</td>\n",
       "      <td>0.494518</td>\n",
       "    </tr>\n",
       "  </tbody>\n",
       "</table>\n",
       "</div>"
      ],
      "text/plain": [
       "   epoch  accuracy      loss  val_accuracy  val_loss\n",
       "0      0  0.600973  0.671693      0.590244  0.641219\n",
       "1      1  0.673966  0.607468      0.673171  0.564120\n",
       "2      2  0.699513  0.563555      0.907317  0.491954\n",
       "3      3  0.798053  0.485711      0.726829  0.465723\n",
       "4      4  0.822384  0.432050      0.717073  0.494518"
      ]
     },
     "execution_count": 23,
     "metadata": {},
     "output_type": "execute_result"
    }
   ],
   "source": [
    "pd.read_csv(csv_file).head()"
   ]
  },
  {
   "cell_type": "markdown",
   "metadata": {
    "colab_type": "text",
    "id": "Dt9C2Y9fRBKN"
   },
   "source": [
    "## [Learning Rate Scheduler](https://keras.io/api/callbacks/learning_rate_scheduler/)\n",
    "\n",
    "Updates the learning rate during training."
   ]
  },
  {
   "cell_type": "code",
   "execution_count": 10,
   "metadata": {
    "colab": {},
    "colab_type": "code",
    "id": "aJi-xY2VRC03"
   },
   "outputs": [
    {
     "name": "stdout",
     "output_type": "stream",
     "text": [
      "\n",
      "Epoch 00001: LearningRateScheduler reducing learning rate to 0.005.\n",
      "Epoch 1/5\n",
      "26/26 [==============================] - 5s 204ms/step - loss: 0.6724 - accuracy: 0.5754 - val_loss: 0.6535 - val_accuracy: 0.7122\n",
      "\n",
      "Epoch 00002: LearningRateScheduler reducing learning rate to 0.0025.\n",
      "Epoch 2/5\n",
      "26/26 [==============================] - 5s 194ms/step - loss: 0.6423 - accuracy: 0.7007 - val_loss: 0.6580 - val_accuracy: 0.5317\n",
      "\n",
      "Epoch 00003: LearningRateScheduler reducing learning rate to 0.00125.\n",
      "Epoch 3/5\n",
      "26/26 [==============================] - 5s 203ms/step - loss: 0.6255 - accuracy: 0.6764 - val_loss: 0.6337 - val_accuracy: 0.7317\n",
      "\n",
      "Epoch 00004: LearningRateScheduler reducing learning rate to 0.000625.\n",
      "Epoch 4/5\n",
      "26/26 [==============================] - 5s 197ms/step - loss: 0.6174 - accuracy: 0.7445 - val_loss: 0.6355 - val_accuracy: 0.6780\n",
      "\n",
      "Epoch 00005: LearningRateScheduler reducing learning rate to 0.0003125.\n",
      "Epoch 5/5\n",
      "26/26 [==============================] - 5s 198ms/step - loss: 0.6132 - accuracy: 0.7238 - val_loss: 0.6313 - val_accuracy: 0.6732\n"
     ]
    },
    {
     "data": {
      "text/plain": [
       "<tensorflow.python.keras.callbacks.History at 0x1b009fe0ec8>"
      ]
     },
     "execution_count": 10,
     "metadata": {},
     "output_type": "execute_result"
    }
   ],
   "source": [
    "model = build_model(dense_units=256)\n",
    "model.compile(\n",
    "    optimizer='sgd',\n",
    "    loss='sparse_categorical_crossentropy', \n",
    "    metrics=['accuracy'])\n",
    "  \n",
    "def step_decay(epoch):\n",
    "    initial_lr = 0.01\n",
    "    drop = 0.5\n",
    "    epochs_drop = 1\n",
    "    lr = initial_lr * math.pow(drop, math.floor((1+epoch)/epochs_drop))\n",
    "    return lr\n",
    "\n",
    "model.fit(train_batches, \n",
    "          epochs=5, \n",
    "          validation_data=validation_batches, \n",
    "          callbacks=[LearningRateScheduler(step_decay, verbose=1),\n",
    "                    TensorBoard(log_dir=os.path.join(\"log_dir\"))])"
   ]
  },
  {
   "cell_type": "code",
   "execution_count": 11,
   "metadata": {
    "colab": {},
    "colab_type": "code",
    "id": "M2S4n8nrbV91"
   },
   "outputs": [
    {
     "data": {
      "text/plain": [
       "ERROR: Timed out waiting for TensorBoard to start. It may still be running as pid 19212."
      ]
     },
     "metadata": {},
     "output_type": "display_data"
    }
   ],
   "source": [
    "%tensorboard --logdir log_dir"
   ]
  },
  {
   "cell_type": "markdown",
   "metadata": {
    "colab_type": "text",
    "id": "y0wcuQyJE_UK"
   },
   "source": [
    "## [ReduceLROnPlateau](https://keras.io/api/callbacks/reduce_lr_on_plateau/)\n",
    "\n",
    "Reduce learning rate when a metric has stopped improving."
   ]
  },
  {
   "cell_type": "code",
   "execution_count": 12,
   "metadata": {
    "colab": {},
    "colab_type": "code",
    "id": "4naxZ-eCFB27"
   },
   "outputs": [
    {
     "name": "stdout",
     "output_type": "stream",
     "text": [
      "Epoch 1/50\n",
      "26/26 [==============================] - 5s 205ms/step - loss: 0.6690 - accuracy: 0.5779 - val_loss: 0.6241 - val_accuracy: 0.7073\n",
      "Epoch 2/50\n",
      "25/26 [===========================>..] - ETA: 0s - loss: 0.6138 - accuracy: 0.6875\n",
      "Epoch 00002: ReduceLROnPlateau reducing learning rate to 0.0019999999552965165.\n",
      "26/26 [==============================] - 5s 200ms/step - loss: 0.6087 - accuracy: 0.6946 - val_loss: 0.6582 - val_accuracy: 0.5122\n",
      "Epoch 3/50\n",
      "26/26 [==============================] - 5s 205ms/step - loss: 0.5491 - accuracy: 0.7774 - val_loss: 0.5509 - val_accuracy: 0.8341\n",
      "Epoch 4/50\n",
      "26/26 [==============================] - 5s 206ms/step - loss: 0.5263 - accuracy: 0.8102 - val_loss: 0.5390 - val_accuracy: 0.8098\n",
      "Epoch 5/50\n",
      "26/26 [==============================] - 5s 210ms/step - loss: 0.5073 - accuracy: 0.8090 - val_loss: 0.5023 - val_accuracy: 0.8000\n",
      "Epoch 6/50\n",
      "25/26 [===========================>..] - ETA: 0s - loss: 0.4885 - accuracy: 0.8163\n",
      "Epoch 00006: ReduceLROnPlateau reducing learning rate to 0.001.\n",
      "26/26 [==============================] - 5s 202ms/step - loss: 0.4887 - accuracy: 0.8139 - val_loss: 0.5062 - val_accuracy: 0.8244\n",
      "Epoch 7/50\n",
      "26/26 [==============================] - 5s 200ms/step - loss: 0.4737 - accuracy: 0.8212 - val_loss: 0.4759 - val_accuracy: 0.8195\n",
      "Epoch 8/50\n",
      "26/26 [==============================] - 5s 200ms/step - loss: 0.4650 - accuracy: 0.8285 - val_loss: 0.4643 - val_accuracy: 0.8000\n",
      "Epoch 9/50\n",
      "25/26 [===========================>..] - ETA: 0s - loss: 0.4562 - accuracy: 0.8163\n",
      "Epoch 00009: ReduceLROnPlateau reducing learning rate to 0.001.\n",
      "26/26 [==============================] - 5s 202ms/step - loss: 0.4536 - accuracy: 0.8200 - val_loss: 0.4789 - val_accuracy: 0.8293\n",
      "Epoch 10/50\n",
      "26/26 [==============================] - 5s 201ms/step - loss: 0.4475 - accuracy: 0.8309 - val_loss: 0.4541 - val_accuracy: 0.8390\n",
      "Epoch 11/50\n",
      "26/26 [==============================] - 5s 195ms/step - loss: 0.4386 - accuracy: 0.8273 - val_loss: 0.4389 - val_accuracy: 0.8390\n",
      "Epoch 12/50\n",
      "26/26 [==============================] - 5s 194ms/step - loss: 0.4295 - accuracy: 0.8382 - val_loss: 0.4263 - val_accuracy: 0.8195\n",
      "Epoch 13/50\n",
      "26/26 [==============================] - 5s 195ms/step - loss: 0.4229 - accuracy: 0.8382 - val_loss: 0.4184 - val_accuracy: 0.8390\n",
      "Epoch 14/50\n",
      "26/26 [==============================] - 5s 199ms/step - loss: 0.4140 - accuracy: 0.8467 - val_loss: 0.4153 - val_accuracy: 0.8634\n",
      "Epoch 15/50\n",
      "26/26 [==============================] - 5s 204ms/step - loss: 0.4056 - accuracy: 0.8382 - val_loss: 0.4019 - val_accuracy: 0.8537\n",
      "Epoch 16/50\n",
      "25/26 [===========================>..] - ETA: 0s - loss: 0.3952 - accuracy: 0.8438\n",
      "Epoch 00016: ReduceLROnPlateau reducing learning rate to 0.001.\n",
      "26/26 [==============================] - 5s 206ms/step - loss: 0.3965 - accuracy: 0.8443 - val_loss: 0.4156 - val_accuracy: 0.8537\n",
      "Epoch 17/50\n",
      "26/26 [==============================] - 5s 201ms/step - loss: 0.3891 - accuracy: 0.8491 - val_loss: 0.3893 - val_accuracy: 0.8634\n",
      "Epoch 18/50\n",
      "26/26 [==============================] - 5s 205ms/step - loss: 0.3807 - accuracy: 0.8479 - val_loss: 0.3688 - val_accuracy: 0.8488\n",
      "Epoch 19/50\n",
      "26/26 [==============================] - 5s 209ms/step - loss: 0.3730 - accuracy: 0.8601 - val_loss: 0.3635 - val_accuracy: 0.8683\n",
      "Epoch 20/50\n",
      "26/26 [==============================] - 5s 199ms/step - loss: 0.3633 - accuracy: 0.8625 - val_loss: 0.3543 - val_accuracy: 0.8732\n",
      "Epoch 21/50\n",
      "25/26 [===========================>..] - ETA: 0s - loss: 0.3589 - accuracy: 0.8575\n",
      "Epoch 00021: ReduceLROnPlateau reducing learning rate to 0.001.\n",
      "26/26 [==============================] - 5s 200ms/step - loss: 0.3595 - accuracy: 0.8577 - val_loss: 0.3560 - val_accuracy: 0.8829\n",
      "Epoch 22/50\n",
      "25/26 [===========================>..] - ETA: 0s - loss: 0.3523 - accuracy: 0.8625\n",
      "Epoch 00022: ReduceLROnPlateau reducing learning rate to 0.001.\n",
      "26/26 [==============================] - 5s 195ms/step - loss: 0.3510 - accuracy: 0.8625 - val_loss: 0.3697 - val_accuracy: 0.8683\n",
      "Epoch 23/50\n",
      "26/26 [==============================] - 5s 199ms/step - loss: 0.3440 - accuracy: 0.8747 - val_loss: 0.3267 - val_accuracy: 0.8878\n",
      "Epoch 24/50\n",
      "26/26 [==============================] - 5s 194ms/step - loss: 0.3392 - accuracy: 0.8747 - val_loss: 0.3186 - val_accuracy: 0.8829\n",
      "Epoch 25/50\n",
      "25/26 [===========================>..] - ETA: 0s - loss: 0.3283 - accuracy: 0.8800\n",
      "Epoch 00025: ReduceLROnPlateau reducing learning rate to 0.001.\n",
      "26/26 [==============================] - 5s 198ms/step - loss: 0.3282 - accuracy: 0.8783 - val_loss: 0.3353 - val_accuracy: 0.8976\n",
      "Epoch 26/50\n",
      "26/26 [==============================] - 5s 198ms/step - loss: 0.3240 - accuracy: 0.8783 - val_loss: 0.3116 - val_accuracy: 0.8927\n",
      "Epoch 27/50\n",
      "26/26 [==============================] - 5s 198ms/step - loss: 0.3114 - accuracy: 0.8954 - val_loss: 0.3024 - val_accuracy: 0.9024\n",
      "Epoch 28/50\n",
      "25/26 [===========================>..] - ETA: 0s - loss: 0.3070 - accuracy: 0.8925\n",
      "Epoch 00028: ReduceLROnPlateau reducing learning rate to 0.001.\n",
      "26/26 [==============================] - 5s 200ms/step - loss: 0.3083 - accuracy: 0.8917 - val_loss: 0.3378 - val_accuracy: 0.8878\n",
      "Epoch 29/50\n",
      "26/26 [==============================] - 6s 213ms/step - loss: 0.2971 - accuracy: 0.9039 - val_loss: 0.2998 - val_accuracy: 0.9024\n",
      "Epoch 30/50\n",
      "26/26 [==============================] - 5s 198ms/step - loss: 0.2932 - accuracy: 0.8966 - val_loss: 0.2852 - val_accuracy: 0.8976\n",
      "Epoch 31/50\n",
      "25/26 [===========================>..] - ETA: 0s - loss: 0.2838 - accuracy: 0.9087\n",
      "Epoch 00031: ReduceLROnPlateau reducing learning rate to 0.001.\n",
      "26/26 [==============================] - 5s 197ms/step - loss: 0.2850 - accuracy: 0.9100 - val_loss: 0.2886 - val_accuracy: 0.9073\n",
      "Epoch 32/50\n",
      "26/26 [==============================] - 5s 194ms/step - loss: 0.2736 - accuracy: 0.9209 - val_loss: 0.2779 - val_accuracy: 0.9073\n",
      "Epoch 33/50\n",
      "26/26 [==============================] - 5s 197ms/step - loss: 0.2697 - accuracy: 0.9173 - val_loss: 0.2560 - val_accuracy: 0.9171\n",
      "Epoch 34/50\n",
      "25/26 [===========================>..] - ETA: 0s - loss: 0.2605 - accuracy: 0.9250\n",
      "Epoch 00034: ReduceLROnPlateau reducing learning rate to 0.001.\n",
      "26/26 [==============================] - 5s 194ms/step - loss: 0.2611 - accuracy: 0.9234 - val_loss: 0.2691 - val_accuracy: 0.9220\n",
      "Epoch 35/50\n",
      "25/26 [===========================>..] - ETA: 0s - loss: 0.2597 - accuracy: 0.9250\n",
      "Epoch 00035: ReduceLROnPlateau reducing learning rate to 0.001.\n",
      "26/26 [==============================] - 5s 198ms/step - loss: 0.2579 - accuracy: 0.9246 - val_loss: 0.2970 - val_accuracy: 0.9024\n",
      "Epoch 36/50\n",
      "26/26 [==============================] - 5s 195ms/step - loss: 0.2559 - accuracy: 0.9197 - val_loss: 0.2391 - val_accuracy: 0.9171\n",
      "Epoch 37/50\n",
      "26/26 [==============================] - 5s 198ms/step - loss: 0.2412 - accuracy: 0.9307 - val_loss: 0.2303 - val_accuracy: 0.9122\n",
      "Epoch 38/50\n",
      "26/26 [==============================] - 5s 201ms/step - loss: 0.2415 - accuracy: 0.9355 - val_loss: 0.2241 - val_accuracy: 0.9171\n",
      "Epoch 39/50\n",
      "25/26 [===========================>..] - ETA: 0s - loss: 0.2271 - accuracy: 0.9538\n",
      "Epoch 00039: ReduceLROnPlateau reducing learning rate to 0.001.\n",
      "26/26 [==============================] - 5s 199ms/step - loss: 0.2313 - accuracy: 0.9513 - val_loss: 0.2278 - val_accuracy: 0.9415\n",
      "Epoch 40/50\n",
      "25/26 [===========================>..] - ETA: 0s - loss: 0.2308 - accuracy: 0.9312\n",
      "Epoch 00040: ReduceLROnPlateau reducing learning rate to 0.001.\n",
      "26/26 [==============================] - 6s 214ms/step - loss: 0.2301 - accuracy: 0.9319 - val_loss: 0.2408 - val_accuracy: 0.9220\n",
      "Epoch 41/50\n",
      "26/26 [==============================] - 5s 209ms/step - loss: 0.2221 - accuracy: 0.9489 - val_loss: 0.2137 - val_accuracy: 0.9366\n",
      "Epoch 42/50\n",
      "25/26 [===========================>..] - ETA: 0s - loss: 0.2225 - accuracy: 0.9275\n",
      "Epoch 00042: ReduceLROnPlateau reducing learning rate to 0.001.\n",
      "26/26 [==============================] - 5s 211ms/step - loss: 0.2195 - accuracy: 0.9294 - val_loss: 0.2711 - val_accuracy: 0.9171\n",
      "Epoch 43/50\n",
      "25/26 [===========================>..] - ETA: 0s - loss: 0.2108 - accuracy: 0.9500\n",
      "Epoch 00043: ReduceLROnPlateau reducing learning rate to 0.001.\n",
      "26/26 [==============================] - 5s 200ms/step - loss: 0.2092 - accuracy: 0.9513 - val_loss: 0.2260 - val_accuracy: 0.9268\n",
      "Epoch 44/50\n",
      "25/26 [===========================>..] - ETA: 0s - loss: 0.2081 - accuracy: 0.9525\n",
      "Epoch 00044: ReduceLROnPlateau reducing learning rate to 0.001.\n",
      "26/26 [==============================] - 5s 209ms/step - loss: 0.2056 - accuracy: 0.9538 - val_loss: 0.2164 - val_accuracy: 0.9268\n",
      "Epoch 45/50\n",
      "25/26 [===========================>..] - ETA: 0s - loss: 0.2040 - accuracy: 0.9625\n",
      "Epoch 00045: ReduceLROnPlateau reducing learning rate to 0.001.\n",
      "26/26 [==============================] - 5s 202ms/step - loss: 0.2036 - accuracy: 0.9635 - val_loss: 0.2138 - val_accuracy: 0.9268\n",
      "Epoch 46/50\n",
      "26/26 [==============================] - 5s 196ms/step - loss: 0.1926 - accuracy: 0.9623 - val_loss: 0.1851 - val_accuracy: 0.9366\n",
      "Epoch 47/50\n",
      "25/26 [===========================>..] - ETA: 0s - loss: 0.1920 - accuracy: 0.9538\n",
      "Epoch 00047: ReduceLROnPlateau reducing learning rate to 0.001.\n",
      "26/26 [==============================] - 5s 196ms/step - loss: 0.1913 - accuracy: 0.9550 - val_loss: 0.1991 - val_accuracy: 0.9268\n",
      "Epoch 48/50\n",
      "25/26 [===========================>..] - ETA: 0s - loss: 0.1865 - accuracy: 0.9588\n",
      "Epoch 00048: ReduceLROnPlateau reducing learning rate to 0.001.\n",
      "26/26 [==============================] - 5s 197ms/step - loss: 0.1851 - accuracy: 0.9599 - val_loss: 0.1965 - val_accuracy: 0.9268\n",
      "Epoch 49/50\n",
      "26/26 [==============================] - 5s 202ms/step - loss: 0.1804 - accuracy: 0.9647 - val_loss: 0.1726 - val_accuracy: 0.9512\n",
      "Epoch 50/50\n",
      "25/26 [===========================>..] - ETA: 0s - loss: 0.1770 - accuracy: 0.9613\n",
      "Epoch 00050: ReduceLROnPlateau reducing learning rate to 0.001.\n",
      "26/26 [==============================] - 5s 203ms/step - loss: 0.1796 - accuracy: 0.9623 - val_loss: 0.2456 - val_accuracy: 0.9122\n"
     ]
    },
    {
     "data": {
      "text/plain": [
       "<tensorflow.python.keras.callbacks.History at 0x1b00a49b048>"
      ]
     },
     "execution_count": 12,
     "metadata": {},
     "output_type": "execute_result"
    }
   ],
   "source": [
    "model = build_model(dense_units=256)\n",
    "model.compile(\n",
    "    optimizer='sgd',\n",
    "    loss='sparse_categorical_crossentropy', \n",
    "    metrics=['accuracy'])\n",
    "  \n",
    "model.fit(train_batches, \n",
    "          epochs=50, \n",
    "          validation_data=validation_batches, \n",
    "          callbacks=[ReduceLROnPlateau(monitor='val_loss', \n",
    "                                       factor=0.2, verbose=1,\n",
    "                                       patience=1, min_lr=0.001),\n",
    "                     TensorBoard(log_dir='./log_dir')])"
   ]
  },
  {
   "cell_type": "code",
   "execution_count": null,
   "metadata": {
    "colab": {},
    "colab_type": "code",
    "id": "isfTWP4NYudk"
   },
   "outputs": [],
   "source": [
    "%tensorboard --logdir log_dir"
   ]
  }
 ],
 "metadata": {
  "colab": {
   "collapsed_sections": [],
   "include_colab_link": true,
   "name": "ExploringCallbacks.ipynb",
   "provenance": []
  },
  "kernelspec": {
   "display_name": "Python [conda env:tf2]",
   "language": "python",
   "name": "conda-env-tf2-py"
  },
  "language_info": {
   "codemirror_mode": {
    "name": "ipython",
    "version": 3
   },
   "file_extension": ".py",
   "mimetype": "text/x-python",
   "name": "python",
   "nbconvert_exporter": "python",
   "pygments_lexer": "ipython3",
   "version": "3.7.6"
  }
 },
 "nbformat": 4,
 "nbformat_minor": 4
}
